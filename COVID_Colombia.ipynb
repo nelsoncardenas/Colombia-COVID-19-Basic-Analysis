{
  "nbformat": 4,
  "nbformat_minor": 0,
  "metadata": {
    "colab": {
      "name": "COVID Colombia.ipynb",
      "provenance": [],
      "include_colab_link": true
    },
    "kernelspec": {
      "name": "python3",
      "display_name": "Python 3"
    }
  },
  "cells": [
    {
      "cell_type": "markdown",
      "metadata": {
        "id": "view-in-github",
        "colab_type": "text"
      },
      "source": [
        "<a href=\"https://colab.research.google.com/github/theinem/Colombia-COVID-19-Basic-Analysis/blob/master/COVID_Colombia.ipynb\" target=\"_parent\"><img src=\"https://colab.research.google.com/assets/colab-badge.svg\" alt=\"Open In Colab\"/></a>"
      ]
    },
    {
      "cell_type": "markdown",
      "metadata": {
        "id": "_zd7L-7mi9nz",
        "colab_type": "text"
      },
      "source": [
        "## **Creación del disco en Drive y librerías**"
      ]
    },
    {
      "cell_type": "code",
      "metadata": {
        "id": "YAjNWAoicjBw",
        "colab_type": "code",
        "outputId": "7e844b72-7600-47b0-9ecc-6372e0521bba",
        "colab": {
          "base_uri": "https://localhost:8080/",
          "height": 129
        }
      },
      "source": [
        "from google.colab import drive\n",
        "drive.mount('/content/drive')"
      ],
      "execution_count": 0,
      "outputs": [
        {
          "output_type": "stream",
          "text": [
            "Go to this URL in a browser: https://accounts.google.com/o/oauth2/auth?client_id=947318989803-6bn6qk8qdgf4n4g3pfee6491hc0brc4i.apps.googleusercontent.com&redirect_uri=urn%3aietf%3awg%3aoauth%3a2.0%3aoob&response_type=code&scope=email%20https%3a%2f%2fwww.googleapis.com%2fauth%2fdocs.test%20https%3a%2f%2fwww.googleapis.com%2fauth%2fdrive%20https%3a%2f%2fwww.googleapis.com%2fauth%2fdrive.photos.readonly%20https%3a%2f%2fwww.googleapis.com%2fauth%2fpeopleapi.readonly\n",
            "\n",
            "Enter your authorization code:\n",
            "··········\n",
            "Mounted at /content/drive\n"
          ],
          "name": "stdout"
        }
      ]
    },
    {
      "cell_type": "code",
      "metadata": {
        "id": "aDfunPEWlsZs",
        "colab_type": "code",
        "colab": {}
      },
      "source": [
        "import pandas as pd\n",
        "#import matplotlib as plt\n",
        "import matplotlib.pyplot as plt\n",
        "import seaborn as sns\n",
        "from matplotlib import rcParams\n",
        "rcParams['figure.figsize'] = [6.0, 4.0] # valores originales\n",
        "\n",
        "sns.set()\n"
      ],
      "execution_count": 0,
      "outputs": []
    },
    {
      "cell_type": "markdown",
      "metadata": {
        "id": "eAvV3Dr4saLz",
        "colab_type": "text"
      },
      "source": [
        "## **Carga del dataframe**"
      ]
    },
    {
      "cell_type": "code",
      "metadata": {
        "id": "MbWtmObugs60",
        "colab_type": "code",
        "outputId": "937cf267-b610-4103-bff0-38c9df8573c0",
        "colab": {
          "base_uri": "https://localhost:8080/",
          "height": 247
        }
      },
      "source": [
        "df = pd.read_csv('/content/drive/My Drive/Colab Notebooks/COVID Colombia/Casos_positivos_de_COVID-19_en_Colombia.csv')\n",
        "df=df.rename(columns = {'ID de caso':'ID'})\n",
        "df = df.set_index('ID')\n",
        "df[:3]"
      ],
      "execution_count": 0,
      "outputs": [
        {
          "output_type": "execute_result",
          "data": {
            "text/html": [
              "<div>\n",
              "<style scoped>\n",
              "    .dataframe tbody tr th:only-of-type {\n",
              "        vertical-align: middle;\n",
              "    }\n",
              "\n",
              "    .dataframe tbody tr th {\n",
              "        vertical-align: top;\n",
              "    }\n",
              "\n",
              "    .dataframe thead th {\n",
              "        text-align: right;\n",
              "    }\n",
              "</style>\n",
              "<table border=\"1\" class=\"dataframe\">\n",
              "  <thead>\n",
              "    <tr style=\"text-align: right;\">\n",
              "      <th></th>\n",
              "      <th>Fecha de notificación</th>\n",
              "      <th>Codigo DIVIPOLA</th>\n",
              "      <th>Ciudad de ubicación</th>\n",
              "      <th>Departamento o Distrito</th>\n",
              "      <th>atención</th>\n",
              "      <th>Edad</th>\n",
              "      <th>Sexo</th>\n",
              "      <th>Tipo</th>\n",
              "      <th>Estado</th>\n",
              "      <th>País de procedencia</th>\n",
              "      <th>FIS</th>\n",
              "      <th>Fecha de muerte</th>\n",
              "      <th>Fecha diagnostico</th>\n",
              "      <th>Fecha recuperado</th>\n",
              "      <th>fecha reporte web</th>\n",
              "    </tr>\n",
              "    <tr>\n",
              "      <th>ID</th>\n",
              "      <th></th>\n",
              "      <th></th>\n",
              "      <th></th>\n",
              "      <th></th>\n",
              "      <th></th>\n",
              "      <th></th>\n",
              "      <th></th>\n",
              "      <th></th>\n",
              "      <th></th>\n",
              "      <th></th>\n",
              "      <th></th>\n",
              "      <th></th>\n",
              "      <th></th>\n",
              "      <th></th>\n",
              "      <th></th>\n",
              "    </tr>\n",
              "  </thead>\n",
              "  <tbody>\n",
              "    <tr>\n",
              "      <th>1</th>\n",
              "      <td>2020-03-02T00:00:00.000</td>\n",
              "      <td>11001</td>\n",
              "      <td>Bogotá D.C.</td>\n",
              "      <td>Bogotá D.C.</td>\n",
              "      <td>Recuperado</td>\n",
              "      <td>19</td>\n",
              "      <td>F</td>\n",
              "      <td>Importado</td>\n",
              "      <td>Leve</td>\n",
              "      <td>Italia</td>\n",
              "      <td>2020-02-27T00:00:00.000</td>\n",
              "      <td>-   -</td>\n",
              "      <td>2020-03-06T00:00:00.000</td>\n",
              "      <td>2020-03-13T00:00:00.000</td>\n",
              "      <td>2020-03-06T00:00:00.000</td>\n",
              "    </tr>\n",
              "    <tr>\n",
              "      <th>2</th>\n",
              "      <td>2020-03-06T00:00:00.000</td>\n",
              "      <td>76111</td>\n",
              "      <td>Guadalajara de Buga</td>\n",
              "      <td>Valle del Cauca</td>\n",
              "      <td>Recuperado</td>\n",
              "      <td>34</td>\n",
              "      <td>M</td>\n",
              "      <td>Importado</td>\n",
              "      <td>Leve</td>\n",
              "      <td>España</td>\n",
              "      <td>2020-03-04T00:00:00.000</td>\n",
              "      <td>-   -</td>\n",
              "      <td>2020-03-09T00:00:00.000</td>\n",
              "      <td>2020-03-19T00:00:00.000</td>\n",
              "      <td>2020-03-09T00:00:00.000</td>\n",
              "    </tr>\n",
              "    <tr>\n",
              "      <th>3</th>\n",
              "      <td>2020-03-07T00:00:00.000</td>\n",
              "      <td>5001</td>\n",
              "      <td>Medellín</td>\n",
              "      <td>Antioquia</td>\n",
              "      <td>Recuperado</td>\n",
              "      <td>50</td>\n",
              "      <td>F</td>\n",
              "      <td>Importado</td>\n",
              "      <td>Leve</td>\n",
              "      <td>España</td>\n",
              "      <td>2020-02-29T00:00:00.000</td>\n",
              "      <td>-   -</td>\n",
              "      <td>2020-03-09T00:00:00.000</td>\n",
              "      <td>2020-03-15T00:00:00.000</td>\n",
              "      <td>2020-03-09T00:00:00.000</td>\n",
              "    </tr>\n",
              "  </tbody>\n",
              "</table>\n",
              "</div>"
            ],
            "text/plain": [
              "      Fecha de notificación  ...        fecha reporte web\n",
              "ID                           ...                         \n",
              "1   2020-03-02T00:00:00.000  ...  2020-03-06T00:00:00.000\n",
              "2   2020-03-06T00:00:00.000  ...  2020-03-09T00:00:00.000\n",
              "3   2020-03-07T00:00:00.000  ...  2020-03-09T00:00:00.000\n",
              "\n",
              "[3 rows x 15 columns]"
            ]
          },
          "metadata": {
            "tags": []
          },
          "execution_count": 20
        }
      ]
    },
    {
      "cell_type": "markdown",
      "metadata": {
        "id": "N30lTIuUsh6w",
        "colab_type": "text"
      },
      "source": [
        "# **Descripción básica de la población**"
      ]
    },
    {
      "cell_type": "markdown",
      "metadata": {
        "id": "KZERepf72S56",
        "colab_type": "text"
      },
      "source": [
        "Edades"
      ]
    },
    {
      "cell_type": "code",
      "metadata": {
        "id": "_Ge0dz-egdQs",
        "colab_type": "code",
        "outputId": "52bd9e89-85ad-4e30-94da-abaefca3b49e",
        "colab": {
          "base_uri": "https://localhost:8080/",
          "height": 182
        }
      },
      "source": [
        "df['Edad'].describe()"
      ],
      "execution_count": 0,
      "outputs": [
        {
          "output_type": "execute_result",
          "data": {
            "text/plain": [
              "count    7973.000000\n",
              "mean       40.511351\n",
              "std        18.699925\n",
              "min         0.000000\n",
              "25%        27.000000\n",
              "50%        38.000000\n",
              "75%        53.000000\n",
              "max       103.000000\n",
              "Name: Edad, dtype: float64"
            ]
          },
          "metadata": {
            "tags": []
          },
          "execution_count": 21
        }
      ]
    },
    {
      "cell_type": "code",
      "metadata": {
        "id": "nUcABXpfA1Db",
        "colab_type": "code",
        "outputId": "4aef8582-b102-40f3-f47c-63805ddce3df",
        "colab": {
          "base_uri": "https://localhost:8080/",
          "height": 515
        }
      },
      "source": [
        "rcParams['figure.figsize'] = 18, 8\n",
        "ax = sns.countplot('Edad', data = df, palette='GnBu_d')\n",
        "ax.set_xticklabels(ax.get_xticklabels(), rotation=70)\n",
        "a=2"
      ],
      "execution_count": 0,
      "outputs": [
        {
          "output_type": "display_data",
          "data": {
            "image/png": "[encoded data removed]",
            "text/plain": [
              "<Figure size 1296x576 with 1 Axes>"
            ]
          },
          "metadata": {
            "tags": []
          }
        }
      ]
    },
    {
      "cell_type": "markdown",
      "metadata": {
        "id": "Yc3E6dyH2VMX",
        "colab_type": "text"
      },
      "source": [
        "Sexo"
      ]
    },
    {
      "cell_type": "code",
      "metadata": {
        "id": "KFp7FjfYll03",
        "colab_type": "code",
        "outputId": "45cafbf8-1a59-4638-f33e-507008538db4",
        "colab": {
          "base_uri": "https://localhost:8080/",
          "height": 340
        }
      },
      "source": [
        "rcParams['figure.figsize'] = [6.0, 4.0] # valores originales\n",
        "df['Sexo'] = df['Sexo'].str.upper() \n",
        "sns.countplot('Sexo', data = df)\n",
        "cant_personas = df.shape[0]\n",
        "cant_mujeres = df[df['Sexo']=='F'].shape[0]\n",
        "cant_hombres = cant_personas - cant_mujeres\n",
        "print('Porcentajes de mujeres y hombres \\nMujeres: ' + str(cant_mujeres/cant_personas*100)[:5], '% \\nHombres: ' + str(cant_hombres/cant_personas*100)[:5], '%')"
      ],
      "execution_count": 0,
      "outputs": [
        {
          "output_type": "stream",
          "text": [
            "Porcentajes de mujeres y hombres \n",
            "Mujeres: 45.26 % \n",
            "Hombres: 54.73 %\n"
          ],
          "name": "stdout"
        },
        {
          "output_type": "display_data",
          "data": {
            "image/png": "[encoded data removed]",
            "text/plain": [
              "<Figure size 432x288 with 1 Axes>"
            ]
          },
          "metadata": {
            "tags": []
          }
        }
      ]
    },
    {
      "cell_type": "markdown",
      "metadata": {
        "id": "YijXzAxr2XkZ",
        "colab_type": "text"
      },
      "source": [
        "Contagios por departamento"
      ]
    },
    {
      "cell_type": "code",
      "metadata": {
        "id": "qDL7t0y5s62I",
        "colab_type": "code",
        "outputId": "565e4d37-8b04-4e89-8cd3-32a4d9e67537",
        "colab": {
          "base_uri": "https://localhost:8080/",
          "height": 520
        }
      },
      "source": [
        "#df['Departamento o Distrito '] = df['Departamento o Distrito '].str\n",
        "rcParams['figure.figsize'] = 11, 8\n",
        "#sns.countplot(y = 'Departamento o Distrito ', data = df)\n",
        "sns.countplot(y = 'Departamento o Distrito ',\n",
        "              data = df,\n",
        "              order = df['Departamento o Distrito '].value_counts().index, palette='RdBu')"
      ],
      "execution_count": 0,
      "outputs": [
        {
          "output_type": "execute_result",
          "data": {
            "text/plain": [
              "<matplotlib.axes._subplots.AxesSubplot at 0x7fd1ce52cdd8>"
            ]
          },
          "metadata": {
            "tags": []
          },
          "execution_count": 24
        },
        {
          "output_type": "display_data",
          "data": {
            "image/png": "[encoded data removed]",
            "text/plain": [
              "<Figure size 792x576 with 1 Axes>"
            ]
          },
          "metadata": {
            "tags": []
          }
        }
      ]
    },
    {
      "cell_type": "code",
      "metadata": {
        "id": "JqDMXMYpmLz-",
        "colab_type": "code",
        "colab": {}
      },
      "source": [
        ""
      ],
      "execution_count": 0,
      "outputs": []
    },
    {
      "cell_type": "markdown",
      "metadata": {
        "id": "ivKh8860pAYr",
        "colab_type": "text"
      },
      "source": [
        "**Prueba de que todas las horas son \"00:00:00.000\"**\n",
        "\n",
        "Se verifica la cantidad de filas de un dataframe compuesto por horas diferentes de 00:00:00.000"
      ]
    },
    {
      "cell_type": "code",
      "metadata": {
        "id": "EVGAnFc_nIzm",
        "colab_type": "code",
        "outputId": "951a8ed1-6d0c-4bf2-fa07-d8ec82c6cf6a",
        "colab": {
          "base_uri": "https://localhost:8080/",
          "height": 54
        }
      },
      "source": [
        "print('Fecha de notificación', df[df['Fecha de notificación'].str.slice(11, 23) != '00:00:00.000'].shape[0])\n",
        "print('Fecha diagnostico', df[df['Fecha diagnostico'].str.slice(11, 23) != '00:00:00.000'].shape[0])"
      ],
      "execution_count": 0,
      "outputs": [
        {
          "output_type": "stream",
          "text": [
            "Fecha de notificación 0\n",
            "Fecha diagnostico 0\n"
          ],
          "name": "stdout"
        }
      ]
    },
    {
      "cell_type": "code",
      "metadata": {
        "id": "JosHBCnKiWLQ",
        "colab_type": "code",
        "colab": {}
      },
      "source": [
        "df['Fecha de notificación'] = pd.to_datetime(df['Fecha de notificación'])\n",
        "df['Fecha diagnostico'] = pd.to_datetime(df['Fecha de notificación'])\n",
        "#df['Fecha recuperado'] = pd.to_datetime(df['Fecha recuperado'])\n",
        "#df['fecha reporte web'] = pd.to_datetime(df['fecha reporte web']) \t"
      ],
      "execution_count": 0,
      "outputs": []
    },
    {
      "cell_type": "markdown",
      "metadata": {
        "id": "CQqLZO8RJ6vP",
        "colab_type": "text"
      },
      "source": [
        "# **Análisis de los recuperados**"
      ]
    },
    {
      "cell_type": "markdown",
      "metadata": {
        "id": "Q1-BbswuKAA6",
        "colab_type": "text"
      },
      "source": [
        "Decripción de los días de recuperación"
      ]
    },
    {
      "cell_type": "code",
      "metadata": {
        "id": "YxBbu4nArt69",
        "colab_type": "code",
        "outputId": "15fb3fcb-ddc1-41d4-feca-3f4a67ba607c",
        "colab": {
          "base_uri": "https://localhost:8080/",
          "height": 182
        }
      },
      "source": [
        "# cómo se obtuvo el string: df[6500:6501]['Fecha recuperado'].tolist()[0]\n",
        "index_recuperados = ~df['Fecha recuperado'].str.contains('-   -') # índices de recuperados con fecha\n",
        "dias_recuperacion = pd.to_datetime(df[index_recuperados]['Fecha recuperado']) - pd.to_datetime(df[index_recuperados]['Fecha de notificación']) \n",
        "dias_recuperacion.rename('Días de Recuperación')\n",
        "dias_recuperacion.dt.days.describe()"
      ],
      "execution_count": 0,
      "outputs": [
        {
          "output_type": "execute_result",
          "data": {
            "text/plain": [
              "count    1807.000000\n",
              "mean       16.541782\n",
              "std         6.940045\n",
              "min         0.000000\n",
              "25%        12.000000\n",
              "50%        15.000000\n",
              "75%        20.000000\n",
              "max        40.000000\n",
              "dtype: float64"
            ]
          },
          "metadata": {
            "tags": []
          },
          "execution_count": 11
        }
      ]
    },
    {
      "cell_type": "code",
      "metadata": {
        "id": "bS63uhBajo7H",
        "colab_type": "code",
        "outputId": "e372660e-1eee-4ec6-f6d0-63a06feba52d",
        "colab": {
          "base_uri": "https://localhost:8080/",
          "height": 286
        }
      },
      "source": [
        "rcParams['figure.figsize'] = [6.0, 4.0] # valores originales\n",
        "dias_recuperacion.dt.days.hist()"
      ],
      "execution_count": 0,
      "outputs": [
        {
          "output_type": "execute_result",
          "data": {
            "text/plain": [
              "<matplotlib.axes._subplots.AxesSubplot at 0x7fd1cde0da90>"
            ]
          },
          "metadata": {
            "tags": []
          },
          "execution_count": 13
        },
        {
          "output_type": "display_data",
          "data": {
            "image/png": "[encoded data removed]",
            "text/plain": [
              "<Figure size 432x288 with 1 Axes>"
            ]
          },
          "metadata": {
            "tags": []
          }
        }
      ]
    },
    {
      "cell_type": "code",
      "metadata": {
        "id": "QB2M0xRNkkTK",
        "colab_type": "code",
        "colab": {}
      },
      "source": [
        "#index_recuperados_F = df[index_recuperados]['Sexo']=='F'\n",
        "#index_recuperados_M = df[index_recuperados]['Sexo']=='M'\n",
        "#dias_recuperacion.dt.days[index_recuperados_F].hist()"
      ],
      "execution_count": 0,
      "outputs": []
    },
    {
      "cell_type": "markdown",
      "metadata": {
        "id": "AbgRYFDRKKvs",
        "colab_type": "text"
      },
      "source": [
        "**Cosas extra**"
      ]
    },
    {
      "cell_type": "code",
      "metadata": {
        "id": "FB3HDL5DzbRQ",
        "colab_type": "code",
        "colab": {}
      },
      "source": [
        "dates = df['Fecha diagnostico']\n",
        "fds = [];\n",
        "for i in dates:\n",
        "  if i.weekday() > 4:\n",
        "    fds.append('r')\n",
        "  else:\n",
        "    fds.append('b')    \n",
        "df['fds'] = fds"
      ],
      "execution_count": 0,
      "outputs": []
    },
    {
      "cell_type": "code",
      "metadata": {
        "id": "i_ftubSv1Jd8",
        "colab_type": "code",
        "outputId": "09c3090c-c805-4a0e-c005-213abd74f9b7",
        "colab": {
          "base_uri": "https://localhost:8080/",
          "height": 424
        }
      },
      "source": [
        "df2 = df[['Fecha diagnostico', 'fds']]\n",
        "df_final = df2.groupby(['Fecha diagnostico', 'fds']).size().reset_index(name='casos')\n",
        "df_final"
      ],
      "execution_count": 0,
      "outputs": [
        {
          "output_type": "execute_result",
          "data": {
            "text/html": [
              "<div>\n",
              "<style scoped>\n",
              "    .dataframe tbody tr th:only-of-type {\n",
              "        vertical-align: middle;\n",
              "    }\n",
              "\n",
              "    .dataframe tbody tr th {\n",
              "        vertical-align: top;\n",
              "    }\n",
              "\n",
              "    .dataframe thead th {\n",
              "        text-align: right;\n",
              "    }\n",
              "</style>\n",
              "<table border=\"1\" class=\"dataframe\">\n",
              "  <thead>\n",
              "    <tr style=\"text-align: right;\">\n",
              "      <th></th>\n",
              "      <th>Fecha diagnostico</th>\n",
              "      <th>fds</th>\n",
              "      <th>casos</th>\n",
              "    </tr>\n",
              "  </thead>\n",
              "  <tbody>\n",
              "    <tr>\n",
              "      <th>0</th>\n",
              "      <td>2020-03-02</td>\n",
              "      <td>b</td>\n",
              "      <td>1</td>\n",
              "    </tr>\n",
              "    <tr>\n",
              "      <th>1</th>\n",
              "      <td>2020-03-06</td>\n",
              "      <td>b</td>\n",
              "      <td>1</td>\n",
              "    </tr>\n",
              "    <tr>\n",
              "      <th>2</th>\n",
              "      <td>2020-03-07</td>\n",
              "      <td>r</td>\n",
              "      <td>1</td>\n",
              "    </tr>\n",
              "    <tr>\n",
              "      <th>3</th>\n",
              "      <td>2020-03-08</td>\n",
              "      <td>r</td>\n",
              "      <td>2</td>\n",
              "    </tr>\n",
              "    <tr>\n",
              "      <th>4</th>\n",
              "      <td>2020-03-09</td>\n",
              "      <td>b</td>\n",
              "      <td>3</td>\n",
              "    </tr>\n",
              "    <tr>\n",
              "      <th>...</th>\n",
              "      <td>...</td>\n",
              "      <td>...</td>\n",
              "      <td>...</td>\n",
              "    </tr>\n",
              "    <tr>\n",
              "      <th>56</th>\n",
              "      <td>2020-04-30</td>\n",
              "      <td>b</td>\n",
              "      <td>192</td>\n",
              "    </tr>\n",
              "    <tr>\n",
              "      <th>57</th>\n",
              "      <td>2020-05-01</td>\n",
              "      <td>b</td>\n",
              "      <td>200</td>\n",
              "    </tr>\n",
              "    <tr>\n",
              "      <th>58</th>\n",
              "      <td>2020-05-02</td>\n",
              "      <td>r</td>\n",
              "      <td>44</td>\n",
              "    </tr>\n",
              "    <tr>\n",
              "      <th>59</th>\n",
              "      <td>2020-05-03</td>\n",
              "      <td>r</td>\n",
              "      <td>86</td>\n",
              "    </tr>\n",
              "    <tr>\n",
              "      <th>60</th>\n",
              "      <td>2020-05-04</td>\n",
              "      <td>b</td>\n",
              "      <td>3</td>\n",
              "    </tr>\n",
              "  </tbody>\n",
              "</table>\n",
              "<p>61 rows × 3 columns</p>\n",
              "</div>"
            ],
            "text/plain": [
              "   Fecha diagnostico fds  casos\n",
              "0         2020-03-02   b      1\n",
              "1         2020-03-06   b      1\n",
              "2         2020-03-07   r      1\n",
              "3         2020-03-08   r      2\n",
              "4         2020-03-09   b      3\n",
              "..               ...  ..    ...\n",
              "56        2020-04-30   b    192\n",
              "57        2020-05-01   b    200\n",
              "58        2020-05-02   r     44\n",
              "59        2020-05-03   r     86\n",
              "60        2020-05-04   b      3\n",
              "\n",
              "[61 rows x 3 columns]"
            ]
          },
          "metadata": {
            "tags": []
          },
          "execution_count": 15
        }
      ]
    },
    {
      "cell_type": "code",
      "metadata": {
        "id": "0aIvSahF5yp8",
        "colab_type": "code",
        "outputId": "396e732f-3649-456e-d3bf-6991fec9a022",
        "colab": {
          "base_uri": "https://localhost:8080/",
          "height": 338
        }
      },
      "source": [
        "fig = plt.figure()\n",
        "ax = fig.add_axes([0,0,1,1])\n",
        "ax.bar(df_final['Fecha diagnostico'], df_final['casos'], color=df_final['fds'])\n",
        "plt.show()"
      ],
      "execution_count": 0,
      "outputs": [
        {
          "output_type": "display_data",
          "data": {
            "image/png": "[encoded data removed]",
            "text/plain": [
              "<Figure size 432x288 with 1 Axes>"
            ]
          },
          "metadata": {
            "tags": []
          }
        }
      ]
    },
    {
      "cell_type": "markdown",
      "metadata": {
        "id": "24on3vYm73bu",
        "colab_type": "text"
      },
      "source": [
        "# **Edad de muertes**"
      ]
    },
    {
      "cell_type": "code",
      "metadata": {
        "id": "W7glkLxa8Yrk",
        "colab_type": "code",
        "outputId": "17c2a97c-f9c1-46fc-8c32-840aaa4170fe",
        "colab": {
          "base_uri": "https://localhost:8080/",
          "height": 182
        }
      },
      "source": [
        "import numpy as np\n",
        "df = df.replace(np.nan, '-   -', regex=True)\n",
        "index_muertes = ~df['Fecha de muerte'].str.contains('-   -') # índices de recuperados con fecha\n",
        "df[index_muertes]['Edad'].describe()\n"
      ],
      "execution_count": 0,
      "outputs": [
        {
          "output_type": "execute_result",
          "data": {
            "text/plain": [
              "count    362.000000\n",
              "mean      66.035912\n",
              "std       16.909285\n",
              "min        0.000000\n",
              "25%       58.000000\n",
              "50%       68.000000\n",
              "75%       76.750000\n",
              "max       98.000000\n",
              "Name: Edad, dtype: float64"
            ]
          },
          "metadata": {
            "tags": []
          },
          "execution_count": 42
        }
      ]
    },
    {
      "cell_type": "code",
      "metadata": {
        "id": "69QSh8mC6G7O",
        "colab_type": "code",
        "outputId": "3ad6755b-49a0-4510-a724-f034b1fc0df9",
        "colab": {
          "base_uri": "https://localhost:8080/",
          "height": 509
        }
      },
      "source": [
        "rcParams['figure.figsize'] = 18, 8\n",
        "ax = sns.countplot('Edad', data = df[index_muertes], palette='GnBu_d')\n",
        "ax.set_xticklabels(ax.get_xticklabels(), rotation=70)\n",
        "a=2"
      ],
      "execution_count": 0,
      "outputs": [
        {
          "output_type": "display_data",
          "data": {
            "image/png": "[encoded data removed]",
            "text/plain": [
              "<Figure size 1296x576 with 1 Axes>"
            ]
          },
          "metadata": {
            "tags": []
          }
        }
      ]
    },
    {
      "cell_type": "code",
      "metadata": {
        "id": "RfSPPB6Z-hwq",
        "colab_type": "code",
        "colab": {}
      },
      "source": [
        ""
      ],
      "execution_count": 0,
      "outputs": []
    }
  ]
}